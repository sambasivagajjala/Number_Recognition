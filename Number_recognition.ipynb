{
  "nbformat": 4,
  "nbformat_minor": 0,
  "metadata": {
    "colab": {
      "provenance": [],
      "mount_file_id": "1sycT7SGEfzJ1mayRZ4p-7pfdPldj74LQ",
      "authorship_tag": "ABX9TyPv8sh0iNWrldrhW6MGqnzn",
      "include_colab_link": true
    },
    "kernelspec": {
      "name": "python3",
      "display_name": "Python 3"
    },
    "language_info": {
      "name": "python"
    }
  },
  "cells": [
    {
      "cell_type": "markdown",
      "metadata": {
        "id": "view-in-github",
        "colab_type": "text"
      },
      "source": [
        "<a href=\"https://colab.research.google.com/github/sambasivagajjala/Number_Recognition/blob/main/Number_recognition.ipynb\" target=\"_parent\"><img src=\"https://colab.research.google.com/assets/colab-badge.svg\" alt=\"Open In Colab\"/></a>"
      ]
    },
    {
      "cell_type": "code",
      "source": [
        "from google.colab import drive\n",
        "drive.mount('/content/drive')"
      ],
      "metadata": {
        "id": "BWvLk0bH8z2L"
      },
      "execution_count": null,
      "outputs": []
    },
    {
      "cell_type": "code",
      "source": [
        "import tensorflow as tf\n",
        "from tensorflow.keras import layers, models\n",
        "from tensorflow.keras.datasets import mnist\n",
        "from tensorflow.keras.utils import to_categorical\n",
        "\n",
        "# Load the MNIST dataset\n",
        "(train_images, train_labels), (test_images, test_labels) = mnist.load_data()\n",
        "\n",
        "# Preprocess the data\n",
        "train_images = train_images.reshape((60000, 28, 28, 1)).astype('float32') / 255\n",
        "test_images = test_images.reshape((10000, 28, 28, 1)).astype('float32') / 255\n",
        "\n",
        "train_labels = to_categorical(train_labels)\n",
        "test_labels = to_categorical(test_labels)\n",
        "\n",
        "# Build the model\n",
        "model = models.Sequential()\n",
        "model.add(layers.Conv2D(32, (3, 3), activation='relu', input_shape=(28, 28, 1)))\n",
        "model.add(layers.MaxPooling2D((2, 2)))\n",
        "model.add(layers.Conv2D(64, (3, 3), activation='relu'))\n",
        "model.add(layers.MaxPooling2D((2, 2)))\n",
        "model.add(layers.Conv2D(64, (3, 3), activation='relu'))\n",
        "model.add(layers.Flatten())\n",
        "model.add(layers.Dense(64, activation='relu'))\n",
        "model.add(layers.Dense(10, activation='softmax'))\n",
        "\n",
        "# Compile the model\n",
        "model.compile(optimizer='adam',\n",
        "              loss='categorical_crossentropy',\n",
        "              metrics=['accuracy'])\n",
        "\n",
        "# Train the model\n",
        "model.fit(train_images, train_labels, epochs=5, batch_size=64, validation_split=0.2)\n",
        "\n",
        "# Evaluate the model\n",
        "test_loss, test_acc = model.evaluate(test_images, test_labels)\n",
        "print(f'Test accuracy: {test_acc}')\n",
        "\n",
        "# Make predictions on new data (replace this with your actual input data)\n",
        "new_data = test_images[:5]\n",
        "predictions = model.predict(new_data)\n",
        "\n",
        "# Display the predictions\n",
        "for i, prediction in enumerate(predictions):\n",
        "    predicted_label = tf.argmax(prediction).numpy()\n",
        "    true_label = tf.argmax(test_labels[i]).numpy()\n",
        "    print(f\"Sample {i + 1}: Predicted Label: {predicted_label}, True Label: {true_label}\")\n"
      ],
      "metadata": {
        "colab": {
          "base_uri": "https://localhost:8080/"
        },
        "id": "XDoUixnM_vpF",
        "outputId": "7f2d13a3-3fc4-417a-edfc-b8f04d694291"
      },
      "execution_count": 3,
      "outputs": [
        {
          "output_type": "stream",
          "name": "stdout",
          "text": [
            "Epoch 1/5\n",
            "750/750 [==============================] - 46s 60ms/step - loss: 0.2260 - accuracy: 0.9312 - val_loss: 0.0690 - val_accuracy: 0.9798\n",
            "Epoch 2/5\n",
            "750/750 [==============================] - 45s 60ms/step - loss: 0.0584 - accuracy: 0.9816 - val_loss: 0.0440 - val_accuracy: 0.9872\n",
            "Epoch 3/5\n",
            "750/750 [==============================] - 45s 59ms/step - loss: 0.0401 - accuracy: 0.9868 - val_loss: 0.0425 - val_accuracy: 0.9867\n",
            "Epoch 4/5\n",
            "750/750 [==============================] - 44s 58ms/step - loss: 0.0326 - accuracy: 0.9896 - val_loss: 0.0420 - val_accuracy: 0.9866\n",
            "Epoch 5/5\n",
            "750/750 [==============================] - 46s 62ms/step - loss: 0.0241 - accuracy: 0.9924 - val_loss: 0.0435 - val_accuracy: 0.9887\n",
            "313/313 [==============================] - 3s 9ms/step - loss: 0.0355 - accuracy: 0.9894\n",
            "Test accuracy: 0.9894000291824341\n",
            "1/1 [==============================] - 0s 127ms/step\n",
            "Sample 1: Predicted Label: 7, True Label: 7\n",
            "Sample 2: Predicted Label: 2, True Label: 2\n",
            "Sample 3: Predicted Label: 1, True Label: 1\n",
            "Sample 4: Predicted Label: 0, True Label: 0\n",
            "Sample 5: Predicted Label: 4, True Label: 4\n"
          ]
        }
      ]
    }
  ]
}